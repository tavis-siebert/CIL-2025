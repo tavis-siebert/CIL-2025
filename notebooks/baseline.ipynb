{
  "cells": [
    {
      "cell_type": "markdown",
      "metadata": {
        "id": "nqJLaVF2ag6Z"
      },
      "source": [
        "# Baseline"
      ]
    },
    {
      "cell_type": "code",
      "execution_count": 5,
      "metadata": {},
      "outputs": [],
      "source": [
        "%load_ext autoreload\n",
        "%autoreload 2\n",
        "\n",
        "import sys\n",
        "sys.path.append(\"../src\")"
      ]
    },
    {
      "cell_type": "code",
      "execution_count": 6,
      "metadata": {
        "id": "r6qltM7-ahC-"
      },
      "outputs": [],
      "source": [
        "from pathlib import Path\n",
        "\n",
        "import numpy as np\n",
        "import pandas as pd\n",
        "\n",
        "PATH_DATA = Path(\"../data\")\n",
        "PATH_OUTPUT = Path(\"../output\")\n",
        "\n",
        "LABEL_MAPPING_REG = {\"negative\": -1, \"neutral\": 0, \"positive\": 1}\n",
        "LABEL_MAPPING_CLA = {\"negative\": 0, \"neutral\": 1, \"positive\": 2}"
      ]
    },
    {
      "cell_type": "markdown",
      "metadata": {
        "id": "ZI8WpWMfcEPP"
      },
      "source": [
        "## Load data"
      ]
    },
    {
      "cell_type": "code",
      "execution_count": 7,
      "metadata": {
        "id": "n-m747YTcAcq"
      },
      "outputs": [],
      "source": [
        "def load_data(path, label_mapping=None):\n",
        "    dataset = pd.read_csv(path, index_col=0)\n",
        "\n",
        "    if label_mapping is not None:\n",
        "        dataset[\"label\"] = dataset[\"label\"].map(label_mapping)\n",
        "\n",
        "    return dataset\n",
        "\n",
        "train_dataset = load_data(PATH_DATA / \"training.csv\", label_mapping=LABEL_MAPPING_REG)"
      ]
    },
    {
      "cell_type": "code",
      "execution_count": 8,
      "metadata": {
        "id": "S2PkENpXxOtc"
      },
      "outputs": [],
      "source": [
        "from sklearn.model_selection import train_test_split\n",
        "\n",
        "train_sentences, val_sentences, train_labels, val_labels = train_test_split(\n",
        "    train_dataset[\"sentence\"],\n",
        "    train_dataset[\"label\"],\n",
        "    test_size=0.1,\n",
        "    stratify=train_dataset[\"label\"],\n",
        "    random_state=0,\n",
        ")"
      ]
    },
    {
      "cell_type": "markdown",
      "metadata": {
        "id": "Cx2ynP3ZzI2W"
      },
      "source": [
        "# Bag-of-words + Logistic Regression baseline"
      ]
    },
    {
      "cell_type": "code",
      "execution_count": 5,
      "metadata": {},
      "outputs": [],
      "source": [
        "from sklearn.feature_extraction.text import CountVectorizer\n",
        "from sklearn.linear_model import LogisticRegression\n",
        "\n",
        "\n",
        "class BaselinePipeline():\n",
        "    \"\"\"Bag-of-words and logistic regression baseline taken from the provided notebook.\"\"\"\n",
        "\n",
        "    def __init__(self):\n",
        "        # We only keep the 10'000 most frequent words and bigrams (i.e. word pairs)\n",
        "        # This is both to reduce the computational cost and reduce potential overfitting\n",
        "        self.vectorizer = CountVectorizer(ngram_range=(1,2), max_features=10000)\n",
        "\n",
        "        # An Example of another BoW Vectorizer\n",
        "        # self.other_vectorizer = CountVectorizer(ngram_range=(1, 2), stop_words=\"english\", max_features=10000, min_df=10, max_df=0.9)\n",
        "\n",
        "        self.model = LogisticRegression(C=1.0, max_iter=100)\n",
        "\n",
        "    def train(self, train_sentences, train_labels, val_sentences, val_labels):\n",
        "        # train\n",
        "        train_embeddings = self.vectorizer.fit_transform(train_sentences)\n",
        "        self.model.fit(train_embeddings, train_labels)\n",
        "\n",
        "        # make predictions for training data\n",
        "        train_predictions = self.model.predict(train_embeddings)\n",
        "        return train_predictions\n",
        "\n",
        "    def predict(self, sentences):\n",
        "        embeddings = self.vectorizer.transform(sentences)\n",
        "        predictions = self.model.predict(embeddings)\n",
        "        return predictions"
      ]
    },
    {
      "cell_type": "code",
      "execution_count": 6,
      "metadata": {
        "id": "bIIdOmcfzNcI"
      },
      "outputs": [
        {
          "name": "stdout",
          "output_type": "stream",
          "text": [
            "Evaluation Score (training set): 0.85254\n",
            "Evaluation Score (validation set): 0.80299\n"
          ]
        },
        {
          "name": "stderr",
          "output_type": "stream",
          "text": [
            "/home/daniel/dev/venvs/cil/lib/python3.12/site-packages/sklearn/linear_model/_logistic.py:465: ConvergenceWarning: lbfgs failed to converge (status=1):\n",
            "STOP: TOTAL NO. OF ITERATIONS REACHED LIMIT.\n",
            "\n",
            "Increase the number of iterations (max_iter) or scale the data as shown in:\n",
            "    https://scikit-learn.org/stable/modules/preprocessing.html\n",
            "Please also refer to the documentation for alternative solver options:\n",
            "    https://scikit-learn.org/stable/modules/linear_model.html#logistic-regression\n",
            "  n_iter_i = _check_optimize_result(\n"
          ]
        }
      ],
      "source": [
        "from sklearn.metrics import mean_absolute_error\n",
        "def evaluate_score(labels, predictions):\n",
        "    mae = mean_absolute_error(labels, predictions)\n",
        "    score = 0.5 * (2 - mae)\n",
        "    return score\n",
        "\n",
        "pipeline = BaselinePipeline()\n",
        "\n",
        "train_predictions = pipeline.train(train_sentences, train_labels, val_sentences, val_labels)\n",
        "score_train = evaluate_score(train_labels, train_predictions)\n",
        "\n",
        "val_predictions = pipeline.predict(val_sentences)\n",
        "score_val = evaluate_score(val_labels, val_predictions)\n",
        "\n",
        "print(f'Evaluation Score (training set): {score_train:.05f}')\n",
        "print(f'Evaluation Score (validation set): {score_val:.05f}')"
      ]
    },
    {
      "cell_type": "markdown",
      "metadata": {
        "id": "U_6EjfvtdmIT"
      },
      "source": [
        "# Test Data"
      ]
    },
    {
      "cell_type": "code",
      "execution_count": 7,
      "metadata": {
        "colab": {
          "base_uri": "https://localhost:8080/",
          "height": 455
        },
        "id": "0-98d8Ktd8u-",
        "outputId": "4c532496-beb7-4b71-e9ee-cda3df93789b"
      },
      "outputs": [
        {
          "data": {
            "text/html": [
              "<div>\n",
              "<style scoped>\n",
              "    .dataframe tbody tr th:only-of-type {\n",
              "        vertical-align: middle;\n",
              "    }\n",
              "\n",
              "    .dataframe tbody tr th {\n",
              "        vertical-align: top;\n",
              "    }\n",
              "\n",
              "    .dataframe thead th {\n",
              "        text-align: right;\n",
              "    }\n",
              "</style>\n",
              "<table border=\"1\" class=\"dataframe\">\n",
              "  <thead>\n",
              "    <tr style=\"text-align: right;\">\n",
              "      <th></th>\n",
              "      <th>sentence</th>\n",
              "    </tr>\n",
              "    <tr>\n",
              "      <th>id</th>\n",
              "      <th></th>\n",
              "    </tr>\n",
              "  </thead>\n",
              "  <tbody>\n",
              "    <tr>\n",
              "      <th>0</th>\n",
              "      <td>Found Thai Spoon on the Vegan Pittsburgh website.</td>\n",
              "    </tr>\n",
              "    <tr>\n",
              "      <th>1</th>\n",
              "      <td>Our bill came out to around $27 and we ate lik...</td>\n",
              "    </tr>\n",
              "    <tr>\n",
              "      <th>2</th>\n",
              "      <td>State Farm broke down the costs for me of the ...</td>\n",
              "    </tr>\n",
              "    <tr>\n",
              "      <th>3</th>\n",
              "      <td>The only con for this resto is the wait to get...</td>\n",
              "    </tr>\n",
              "    <tr>\n",
              "      <th>4</th>\n",
              "      <td>We could hear the people above us stomping aro...</td>\n",
              "    </tr>\n",
              "    <tr>\n",
              "      <th>...</th>\n",
              "      <td>...</td>\n",
              "    </tr>\n",
              "    <tr>\n",
              "      <th>11946</th>\n",
              "      <td>I went back in to ask for cilantro dressing th...</td>\n",
              "    </tr>\n",
              "    <tr>\n",
              "      <th>11947</th>\n",
              "      <td>Here , Adrian Lyne comes as close to profundit...</td>\n",
              "    </tr>\n",
              "    <tr>\n",
              "      <th>11948</th>\n",
              "      <td>The actors are so terrific at conveying their ...</td>\n",
              "    </tr>\n",
              "    <tr>\n",
              "      <th>11949</th>\n",
              "      <td>It should be mentioned that the set design and...</td>\n",
              "    </tr>\n",
              "    <tr>\n",
              "      <th>11950</th>\n",
              "      <td>She greeted customers by holding the scanner t...</td>\n",
              "    </tr>\n",
              "  </tbody>\n",
              "</table>\n",
              "<p>11951 rows × 1 columns</p>\n",
              "</div>"
            ],
            "text/plain": [
              "                                                sentence\n",
              "id                                                      \n",
              "0      Found Thai Spoon on the Vegan Pittsburgh website.\n",
              "1      Our bill came out to around $27 and we ate lik...\n",
              "2      State Farm broke down the costs for me of the ...\n",
              "3      The only con for this resto is the wait to get...\n",
              "4      We could hear the people above us stomping aro...\n",
              "...                                                  ...\n",
              "11946  I went back in to ask for cilantro dressing th...\n",
              "11947  Here , Adrian Lyne comes as close to profundit...\n",
              "11948  The actors are so terrific at conveying their ...\n",
              "11949  It should be mentioned that the set design and...\n",
              "11950  She greeted customers by holding the scanner t...\n",
              "\n",
              "[11951 rows x 1 columns]"
            ]
          },
          "execution_count": 7,
          "metadata": {},
          "output_type": "execute_result"
        }
      ],
      "source": [
        "test_dataset = load_data(PATH_DATA / \"test.csv\")\n",
        "test_dataset"
      ]
    },
    {
      "cell_type": "code",
      "execution_count": 8,
      "metadata": {},
      "outputs": [
        {
          "data": {
            "text/html": [
              "<div>\n",
              "<style scoped>\n",
              "    .dataframe tbody tr th:only-of-type {\n",
              "        vertical-align: middle;\n",
              "    }\n",
              "\n",
              "    .dataframe tbody tr th {\n",
              "        vertical-align: top;\n",
              "    }\n",
              "\n",
              "    .dataframe thead th {\n",
              "        text-align: right;\n",
              "    }\n",
              "</style>\n",
              "<table border=\"1\" class=\"dataframe\">\n",
              "  <thead>\n",
              "    <tr style=\"text-align: right;\">\n",
              "      <th></th>\n",
              "      <th>id</th>\n",
              "      <th>label</th>\n",
              "    </tr>\n",
              "  </thead>\n",
              "  <tbody>\n",
              "    <tr>\n",
              "      <th>0</th>\n",
              "      <td>0</td>\n",
              "      <td>0</td>\n",
              "    </tr>\n",
              "    <tr>\n",
              "      <th>1</th>\n",
              "      <td>1</td>\n",
              "      <td>0</td>\n",
              "    </tr>\n",
              "    <tr>\n",
              "      <th>2</th>\n",
              "      <td>2</td>\n",
              "      <td>0</td>\n",
              "    </tr>\n",
              "    <tr>\n",
              "      <th>3</th>\n",
              "      <td>3</td>\n",
              "      <td>-1</td>\n",
              "    </tr>\n",
              "    <tr>\n",
              "      <th>4</th>\n",
              "      <td>4</td>\n",
              "      <td>1</td>\n",
              "    </tr>\n",
              "    <tr>\n",
              "      <th>...</th>\n",
              "      <td>...</td>\n",
              "      <td>...</td>\n",
              "    </tr>\n",
              "    <tr>\n",
              "      <th>11946</th>\n",
              "      <td>11946</td>\n",
              "      <td>1</td>\n",
              "    </tr>\n",
              "    <tr>\n",
              "      <th>11947</th>\n",
              "      <td>11947</td>\n",
              "      <td>0</td>\n",
              "    </tr>\n",
              "    <tr>\n",
              "      <th>11948</th>\n",
              "      <td>11948</td>\n",
              "      <td>1</td>\n",
              "    </tr>\n",
              "    <tr>\n",
              "      <th>11949</th>\n",
              "      <td>11949</td>\n",
              "      <td>-1</td>\n",
              "    </tr>\n",
              "    <tr>\n",
              "      <th>11950</th>\n",
              "      <td>11950</td>\n",
              "      <td>-1</td>\n",
              "    </tr>\n",
              "  </tbody>\n",
              "</table>\n",
              "<p>11951 rows × 2 columns</p>\n",
              "</div>"
            ],
            "text/plain": [
              "          id  label\n",
              "0          0      0\n",
              "1          1      0\n",
              "2          2      0\n",
              "3          3     -1\n",
              "4          4      1\n",
              "...      ...    ...\n",
              "11946  11946      1\n",
              "11947  11947      0\n",
              "11948  11948      1\n",
              "11949  11949     -1\n",
              "11950  11950     -1\n",
              "\n",
              "[11951 rows x 2 columns]"
            ]
          },
          "execution_count": 8,
          "metadata": {},
          "output_type": "execute_result"
        }
      ],
      "source": [
        "test_ids = test_dataset.index\n",
        "test_sentences = test_dataset[\"sentence\"]\n",
        "test_predictions = pipeline.predict(test_sentences)\n",
        "\n",
        "submission = pd.DataFrame({\"id\": test_ids, \"label\": test_predictions})\n",
        "submission"
      ]
    },
    {
      "cell_type": "code",
      "execution_count": 9,
      "metadata": {},
      "outputs": [
        {
          "name": "stderr",
          "output_type": "stream",
          "text": [
            "/home/daniel/dev/venvs/cil/lib/python3.12/site-packages/sklearn/linear_model/_logistic.py:465: ConvergenceWarning: lbfgs failed to converge (status=1):\n",
            "STOP: TOTAL NO. OF ITERATIONS REACHED LIMIT.\n",
            "\n",
            "Increase the number of iterations (max_iter) or scale the data as shown in:\n",
            "    https://scikit-learn.org/stable/modules/preprocessing.html\n",
            "Please also refer to the documentation for alternative solver options:\n",
            "    https://scikit-learn.org/stable/modules/linear_model.html#logistic-regression\n",
            "  n_iter_i = _check_optimize_result(\n"
          ]
        },
        {
          "name": "stdout",
          "output_type": "stream",
          "text": [
            "Evaluation Score (training set): 0.85254\n",
            "Evaluation Score (validation set): 0.80299\n",
            "Submission saved to '../output/submissions/submission.csv'.\n"
          ]
        }
      ],
      "source": [
        "import os\n",
        "from sklearn.metrics import mean_absolute_error\n",
        "\n",
        "def save_submission(path, submission, label_mapping):\n",
        "    label_mapping_rev = {value: key for key, value in label_mapping.items()}\n",
        "    submission[\"label\"] = submission[\"label\"].map(label_mapping_rev)\n",
        "\n",
        "    os.makedirs(os.path.dirname(path), exist_ok=True)\n",
        "    submission.to_csv(path, index=False)\n",
        "    print(f\"Submission saved to '{path}'.\")\n",
        "\n",
        "def evaluate_score(labels, predictions):\n",
        "    mae = mean_absolute_error(labels, predictions)\n",
        "    score = 0.5 * (2 - mae)\n",
        "    return score\n",
        "\n",
        "pipeline = BaselinePipeline()\n",
        "\n",
        "train_predictions = pipeline.train(train_sentences, train_labels, val_sentences, val_labels)\n",
        "score_train = evaluate_score(train_labels, train_predictions)\n",
        "\n",
        "val_predictions = pipeline.predict(val_sentences)\n",
        "score_val = evaluate_score(val_labels, val_predictions)\n",
        "\n",
        "print(f'Evaluation Score (training set): {score_train:.05f}')\n",
        "print(f'Evaluation Score (validation set): {score_val:.05f}')\n",
        "\n",
        "\n",
        "test_dataset = load_data(PATH_DATA / \"test.csv\")\n",
        "\n",
        "test_ids = test_dataset.index\n",
        "test_sentences = test_dataset[\"sentence\"]\n",
        "test_predictions = pipeline.predict(test_sentences)\n",
        "\n",
        "submission = pd.DataFrame({\"id\": test_ids, \"label\": test_predictions})\n",
        "save_submission(PATH_OUTPUT / \"submissions\" / \"submission.csv\", submission, LABEL_MAPPING_REG)"
      ]
    }
  ],
  "metadata": {
    "colab": {
      "provenance": []
    },
    "kernelspec": {
      "display_name": "cil",
      "language": "python",
      "name": "python3"
    },
    "language_info": {
      "codemirror_mode": {
        "name": "ipython",
        "version": 3
      },
      "file_extension": ".py",
      "mimetype": "text/x-python",
      "name": "python",
      "nbconvert_exporter": "python",
      "pygments_lexer": "ipython3",
      "version": "3.12.4"
    }
  },
  "nbformat": 4,
  "nbformat_minor": 0
}
