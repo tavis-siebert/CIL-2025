{
 "cells": [
  {
   "cell_type": "markdown",
   "metadata": {
    "id": "nqJLaVF2ag6Z"
   },
   "source": [
    "# Baseline"
   ]
  },
  {
   "cell_type": "code",
   "execution_count": 1,
   "metadata": {},
   "outputs": [],
   "source": [
    "%load_ext autoreload\n",
    "%autoreload 2\n",
    "\n",
    "import sys\n",
    "sys.path.append(\"../src\")"
   ]
  },
  {
   "cell_type": "code",
   "execution_count": 2,
   "metadata": {
    "id": "r6qltM7-ahC-"
   },
   "outputs": [
    {
     "name": "stdout",
     "output_type": "stream",
     "text": [
      "[2025-05-21 15:13:22] INFO     cache:21    Cache directory: ../output/cache\n"
     ]
    }
   ],
   "source": [
    "from pathlib import Path\n",
    "\n",
    "from omegaconf import OmegaConf\n",
    "from sklearn.model_selection import train_test_split\n",
    "\n",
    "from cache import CACHE\n",
    "from utils import (\n",
    "    evaluate_score,\n",
    "    load_data,\n",
    "    save_predictions,\n",
    "    setup_logging,\n",
    ")\n",
    "\n",
    "setup_logging()\n",
    "\n",
    "PATH_DATA = Path(\"../data\")\n",
    "PATH_OUTPUT = Path(\"../output\")\n",
    "\n",
    "CACHE.init(cache_dir=PATH_OUTPUT / \"cache\")"
   ]
  },
  {
   "cell_type": "markdown",
   "metadata": {
    "id": "ZI8WpWMfcEPP"
   },
   "source": [
    "## Load data"
   ]
  },
  {
   "cell_type": "code",
   "execution_count": null,
   "metadata": {
    "id": "n-m747YTcAcq"
   },
   "outputs": [
    {
     "name": "stdout",
     "output_type": "stream",
     "text": [
      "Removing 13 sentences longer than 512 characters\n"
     ]
    }
   ],
   "source": [
    "train_dataset = load_data(PATH_DATA / \"training.csv\")\n",
    "test_dataset = load_data(PATH_DATA / \"test.csv\")\n",
    "\n",
    "# remove sentences longer than a threshold\n",
    "max_sentence_length = 512\n",
    "mask = train_dataset[\"sentence\"].apply(lambda x: len(x) <= max_sentence_length)\n",
    "print(f\"Removing {len(train_dataset) - mask.sum()} sentences longer than {max_sentence_length} characters.\")\n",
    "train_dataset = train_dataset[mask]"
   ]
  },
  {
   "cell_type": "code",
   "execution_count": 22,
   "metadata": {},
   "outputs": [
    {
     "name": "stderr",
     "output_type": "stream",
     "text": [
      "[nltk_data] Downloading package punkt to /Users/samuel/nltk_data...\n",
      "[nltk_data]   Package punkt is already up-to-date!\n",
      "[nltk_data] Downloading package punkt_tab to\n",
      "[nltk_data]     /Users/samuel/nltk_data...\n",
      "[nltk_data]   Package punkt_tab is already up-to-date!\n",
      "[nltk_data] Downloading package wordnet to /Users/samuel/nltk_data...\n",
      "[nltk_data]   Package wordnet is already up-to-date!\n"
     ]
    },
    {
     "data": {
      "text/plain": [
       "True"
      ]
     },
     "execution_count": 22,
     "metadata": {},
     "output_type": "execute_result"
    }
   ],
   "source": [
    "import nltk\n",
    "\n",
    "with open(PATH_DATA / \"stopwords.txt\", \"r\") as f:\n",
    "    stopwords = set(line.strip() for line in f if line.strip())\n",
    "\n",
    "# download nltk data\n",
    "nltk.download(\"punkt\")\n",
    "nltk.download(\"punkt_tab\")\n",
    "nltk.download(\"wordnet\")"
   ]
  },
  {
   "cell_type": "code",
   "execution_count": 23,
   "metadata": {
    "id": "S2PkENpXxOtc"
   },
   "outputs": [],
   "source": [
    "train_sentences, val_sentences, train_labels, val_labels = train_test_split(\n",
    "    train_dataset[\"sentence\"],\n",
    "    train_dataset[\"label\"],\n",
    "    test_size=0.1,\n",
    "    stratify=train_dataset[\"label\"],\n",
    "    random_state=0,\n",
    ")"
   ]
  },
  {
   "cell_type": "markdown",
   "metadata": {
    "id": "Cx2ynP3ZzI2W"
   },
   "source": [
    "## Train pipeline"
   ]
  },
  {
   "cell_type": "code",
   "execution_count": null,
   "metadata": {},
   "outputs": [],
   "source": [
    "### baseline\n",
    "\n",
    "# baseline config using bag of words and logistic regression\n",
    "config_bow_logreg = \"\"\"\n",
    "label_mapping: regression\n",
    "\n",
    "vectorizer:\n",
    "    type: CountVectorizer\n",
    "    ngram_range: [1, 3]\n",
    "    max_features: 10000\n",
    "\n",
    "model:\n",
    "    type: LogisticRegression\n",
    "    C: 1.0\n",
    "    max_iter: 100\n",
    "\"\"\"\n",
    "\n",
    "# baseline config using bag of words and logistic regression with preprocessing\n",
    "config_bow_logreg_pp = \"\"\"\n",
    "label_mapping: regression\n",
    "\n",
    "vectorizer:\n",
    "    type: CountVectorizer\n",
    "    ngram_range: [1, 3]\n",
    "    max_features: 10000\n",
    "\n",
    "model:\n",
    "    type: LogisticRegression\n",
    "    C: 1.0\n",
    "    max_iter: 100\n",
    "\n",
    "preprocessing:\n",
    "    - clean_whitespaces\n",
    "    - internet\n",
    "    - punctuation\n",
    "    - contractions\n",
    "    - remove_repeated_chars\n",
    "    - remove_special_chars\n",
    "    - lowercase\n",
    "\"\"\"\n",
    "\n",
    "\n",
    "### tree-based models\n",
    "\n",
    "# config using bag of words and random forest\n",
    "config_glove_rf_pp= \"\"\"\n",
    "label_mapping: classification\n",
    "\n",
    "vectorizer:\n",
    "    type: CountVectorizer\n",
    "    ngram_range: [1, 3]\n",
    "    max_features: 10000\n",
    "\n",
    "model:\n",
    "    type: RandomForestClassifier\n",
    "    n_estimators: 100\n",
    "    max_depth: 75\n",
    "    n_jobs: -1\n",
    "\n",
    "preprocessing:\n",
    "    - clean_whitespaces\n",
    "    - internet\n",
    "    - punctuation\n",
    "    - contractions\n",
    "    - remove_repeated_chars\n",
    "    - remove_special_chars\n",
    "    - lowercase\n",
    "\"\"\"\n",
    "\n",
    "# config using bag of words and gradient boosting\n",
    "config_glove_gb = f\"\"\"\n",
    "label_mapping: classification\n",
    "\n",
    "# vectorizer:\n",
    "#     type: GloVe\n",
    "#     path: {PATH_DATA}/glove.twitter.27B/glove.twitter.27B.25d.txt\n",
    "\n",
    "vectorizer:\n",
    "    type: CountVectorizer\n",
    "    ngram_range: [1, 3]\n",
    "    max_features: 10000\n",
    "\n",
    "model:\n",
    "    type: GradientBoostingClassifier\n",
    "    n_estimators: 100\n",
    "    max_depth: 10\n",
    "\n",
    "preprocessing:\n",
    "    - clean_whitespaces\n",
    "    - internet\n",
    "    - punctuation\n",
    "    - contractions\n",
    "    - remove_repeated_chars\n",
    "    - remove_special_chars\n",
    "    - lowercase\n",
    "\"\"\"\n",
    "\n",
    "config = OmegaConf.create(config_glove_gb)"
   ]
  },
  {
   "cell_type": "code",
   "execution_count": 59,
   "metadata": {},
   "outputs": [
    {
     "name": "stdout",
     "output_type": "stream",
     "text": [
      "[2025-05-21 15:50:58] WARNING  py.warnings:110   /opt/homebrew/Caskroom/miniconda/base/envs/cil-project/lib/python3.13/site-packages/sklearn/linear_model/_linear_loss.py:203: RuntimeWarning: divide by zero encountered in matmul\n",
      "  raw_prediction = X @ weights.T + intercept  # ndarray, likely C-contiguous\n",
      "\n",
      "[2025-05-21 15:50:58] WARNING  py.warnings:110   /opt/homebrew/Caskroom/miniconda/base/envs/cil-project/lib/python3.13/site-packages/sklearn/linear_model/_linear_loss.py:203: RuntimeWarning: overflow encountered in matmul\n",
      "  raw_prediction = X @ weights.T + intercept  # ndarray, likely C-contiguous\n",
      "\n",
      "[2025-05-21 15:50:58] WARNING  py.warnings:110   /opt/homebrew/Caskroom/miniconda/base/envs/cil-project/lib/python3.13/site-packages/sklearn/linear_model/_linear_loss.py:203: RuntimeWarning: invalid value encountered in matmul\n",
      "  raw_prediction = X @ weights.T + intercept  # ndarray, likely C-contiguous\n",
      "\n",
      "[2025-05-21 15:50:58] WARNING  py.warnings:110   /opt/homebrew/Caskroom/miniconda/base/envs/cil-project/lib/python3.13/site-packages/sklearn/linear_model/_linear_loss.py:336: RuntimeWarning: divide by zero encountered in matmul\n",
      "  grad[:, :n_features] = grad_pointwise.T @ X + l2_reg_strength * weights\n",
      "\n",
      "[2025-05-21 15:50:58] WARNING  py.warnings:110   /opt/homebrew/Caskroom/miniconda/base/envs/cil-project/lib/python3.13/site-packages/sklearn/linear_model/_linear_loss.py:336: RuntimeWarning: overflow encountered in matmul\n",
      "  grad[:, :n_features] = grad_pointwise.T @ X + l2_reg_strength * weights\n",
      "\n",
      "[2025-05-21 15:50:58] WARNING  py.warnings:110   /opt/homebrew/Caskroom/miniconda/base/envs/cil-project/lib/python3.13/site-packages/sklearn/linear_model/_linear_loss.py:336: RuntimeWarning: invalid value encountered in matmul\n",
      "  grad[:, :n_features] = grad_pointwise.T @ X + l2_reg_strength * weights\n",
      "\n",
      "[2025-05-21 15:50:59] WARNING  py.warnings:110   /opt/homebrew/Caskroom/miniconda/base/envs/cil-project/lib/python3.13/site-packages/sklearn/linear_model/_logistic.py:465: ConvergenceWarning: lbfgs failed to converge (status=1):\n",
      "STOP: TOTAL NO. OF ITERATIONS REACHED LIMIT.\n",
      "\n",
      "Increase the number of iterations (max_iter) or scale the data as shown in:\n",
      "    https://scikit-learn.org/stable/modules/preprocessing.html\n",
      "Please also refer to the documentation for alternative solver options:\n",
      "    https://scikit-learn.org/stable/modules/linear_model.html#logistic-regression\n",
      "  n_iter_i = _check_optimize_result(\n",
      "\n",
      "[2025-05-21 15:51:02] WARNING  py.warnings:110   /opt/homebrew/Caskroom/miniconda/base/envs/cil-project/lib/python3.13/site-packages/sklearn/utils/extmath.py:203: RuntimeWarning: divide by zero encountered in matmul\n",
      "  ret = a @ b\n",
      "\n",
      "[2025-05-21 15:51:02] WARNING  py.warnings:110   /opt/homebrew/Caskroom/miniconda/base/envs/cil-project/lib/python3.13/site-packages/sklearn/utils/extmath.py:203: RuntimeWarning: overflow encountered in matmul\n",
      "  ret = a @ b\n",
      "\n",
      "[2025-05-21 15:51:02] WARNING  py.warnings:110   /opt/homebrew/Caskroom/miniconda/base/envs/cil-project/lib/python3.13/site-packages/sklearn/utils/extmath.py:203: RuntimeWarning: invalid value encountered in matmul\n",
      "  ret = a @ b\n",
      "\n",
      "[2025-05-21 15:51:02] WARNING  py.warnings:110   /opt/homebrew/Caskroom/miniconda/base/envs/cil-project/lib/python3.13/site-packages/sklearn/utils/extmath.py:203: RuntimeWarning: divide by zero encountered in matmul\n",
      "  ret = a @ b\n",
      "\n",
      "[2025-05-21 15:51:02] WARNING  py.warnings:110   /opt/homebrew/Caskroom/miniconda/base/envs/cil-project/lib/python3.13/site-packages/sklearn/utils/extmath.py:203: RuntimeWarning: overflow encountered in matmul\n",
      "  ret = a @ b\n",
      "\n",
      "[2025-05-21 15:51:02] WARNING  py.warnings:110   /opt/homebrew/Caskroom/miniconda/base/envs/cil-project/lib/python3.13/site-packages/sklearn/utils/extmath.py:203: RuntimeWarning: invalid value encountered in matmul\n",
      "  ret = a @ b\n",
      "\n",
      "Evaluation Score (training set): 0.76012\n",
      "Evaluation Score (validation set): 0.75801\n"
     ]
    }
   ],
   "source": [
    "from pipelines.classical_ml import ClassicalMLPipeline\n",
    "\n",
    "pipeline = ClassicalMLPipeline(config)\n",
    "\n",
    "train_predictions, val_predictions = pipeline.train(train_sentences, train_labels, val_sentences, val_labels)\n",
    "score_train = evaluate_score(train_labels, train_predictions)\n",
    "score_val = evaluate_score(val_labels, val_predictions)\n",
    "\n",
    "print(f\"Evaluation Score (training set): {score_train:.05f}\")\n",
    "print(f\"Evaluation Score (validation set): {score_val:.05f}\")"
   ]
  },
  {
   "cell_type": "markdown",
   "metadata": {
    "id": "U_6EjfvtdmIT"
   },
   "source": [
    "<!-- ## Make predictions on test data -->"
   ]
  },
  {
   "cell_type": "code",
   "execution_count": null,
   "metadata": {},
   "outputs": [
    {
     "data": {
      "text/plain": [
       "id\n",
       "0         neutral\n",
       "1         neutral\n",
       "2         neutral\n",
       "3        negative\n",
       "4        positive\n",
       "           ...   \n",
       "11946    positive\n",
       "11947     neutral\n",
       "11948    positive\n",
       "11949    negative\n",
       "11950    negative\n",
       "Length: 11951, dtype: object"
      ]
     },
     "execution_count": 27,
     "metadata": {},
     "output_type": "execute_result"
    }
   ],
   "source": [
    "test_ids = test_dataset.index\n",
    "test_predictions = pipeline.predict(test_dataset[\"sentence\"])\n",
    "\n",
    "test_predictions"
   ]
  },
  {
   "cell_type": "code",
   "execution_count": null,
   "metadata": {},
   "outputs": [
    {
     "name": "stdout",
     "output_type": "stream",
     "text": [
      "[2025-05-21 13:55:12] INFO     utils:103   Submission saved to '../output/submissions/submission.csv'.\n"
     ]
    }
   ],
   "source": [
    "save_predictions(PATH_OUTPUT / \"submissions\" / \"submission.csv\", test_ids, test_predictions)"
   ]
  }
 ],
 "metadata": {
  "colab": {
   "provenance": []
  },
  "kernelspec": {
   "display_name": "cil-project",
   "language": "python",
   "name": "python3"
  },
  "language_info": {
   "codemirror_mode": {
    "name": "ipython",
    "version": 3
   },
   "file_extension": ".py",
   "mimetype": "text/x-python",
   "name": "python",
   "nbconvert_exporter": "python",
   "pygments_lexer": "ipython3",
   "version": "3.13.2"
  }
 },
 "nbformat": 4,
 "nbformat_minor": 0
}
