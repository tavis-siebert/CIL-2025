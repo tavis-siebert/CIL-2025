{
 "cells": [
  {
   "cell_type": "markdown",
   "metadata": {
    "id": "nqJLaVF2ag6Z"
   },
   "source": [
    "# Baseline"
   ]
  },
  {
   "cell_type": "code",
   "execution_count": null,
   "metadata": {},
   "outputs": [],
   "source": [
    "%load_ext autoreload\n",
    "%autoreload 2\n",
    "\n",
    "import sys\n",
    "sys.path.append(\"../src\")"
   ]
  },
  {
   "cell_type": "code",
   "execution_count": null,
   "metadata": {
    "id": "r6qltM7-ahC-"
   },
   "outputs": [],
   "source": [
    "from pathlib import Path\n",
    "\n",
    "import pandas as pd\n",
    "from omegaconf import OmegaConf\n",
    "from sklearn.model_selection import train_test_split\n",
    "\n",
    "from cache import CACHE\n",
    "from utils import (\n",
    "    evaluate_score,\n",
    "    load_data,\n",
    "    save_predictions,\n",
    "    setup_logging,\n",
    ")\n",
    "\n",
    "setup_logging()\n",
    "\n",
    "PATH_DATA = Path(\"../data\")\n",
    "PATH_OUTPUT = Path(\"../output\")\n",
    "\n",
    "CACHE.init(cache_dir=PATH_OUTPUT / \"cache\")"
   ]
  },
  {
   "cell_type": "markdown",
   "metadata": {
    "id": "ZI8WpWMfcEPP"
   },
   "source": [
    "## Load data"
   ]
  },
  {
   "cell_type": "code",
   "execution_count": null,
   "metadata": {
    "id": "n-m747YTcAcq"
   },
   "outputs": [],
   "source": [
    "train_dataset = load_data(PATH_DATA / \"training.csv\")\n",
    "test_dataset = load_data(PATH_DATA / \"test.csv\")"
   ]
  },
  {
   "cell_type": "code",
   "execution_count": null,
   "metadata": {
    "id": "S2PkENpXxOtc"
   },
   "outputs": [],
   "source": [
    "train_sentences, val_sentences, train_labels, val_labels = train_test_split(\n",
    "    train_dataset[\"sentence\"],\n",
    "    train_dataset[\"label\"],\n",
    "    test_size=0.1,\n",
    "    stratify=train_dataset[\"label\"],\n",
    "    random_state=0,\n",
    ")"
   ]
  },
  {
   "cell_type": "markdown",
   "metadata": {
    "id": "Cx2ynP3ZzI2W"
   },
   "source": [
    "## Train pipeline"
   ]
  },
  {
   "cell_type": "code",
   "execution_count": null,
   "metadata": {},
   "outputs": [],
   "source": [
    "from pipelines.baseline_bow_logreg import BaselineBowLogreg\n",
    "\n",
    "config = \"\"\"\n",
    "label_mapping: regression\n",
    "\n",
    "bow:\n",
    "    ngram_range: [1, 2]\n",
    "    max_features: 10000\n",
    "\n",
    "logreg:\n",
    "    C: 1.0\n",
    "    max_iter: 100\n",
    "\"\"\"\n",
    "config = OmegaConf.create(config)\n",
    "pipeline = BaselineBowLogreg(config)\n",
    "\n",
    "train_predictions, val_predictions = pipeline.train(train_sentences, train_labels, val_sentences, val_labels)\n",
    "score_train = evaluate_score(train_labels, train_predictions)\n",
    "score_val = evaluate_score(val_labels, val_predictions)\n",
    "\n",
    "print(f\"Evaluation Score (training set): {score_train:.05f}\")\n",
    "print(f\"Evaluation Score (validation set): {score_val:.05f}\")"
   ]
  },
  {
   "cell_type": "code",
   "execution_count": null,
   "metadata": {},
   "outputs": [],
   "source": [
    "from pipelines.pretrained_classifier import PretrainedClassifier\n",
    "\n",
    "config = OmegaConf.create({\"model\": \"cardiffnlp/twitter-roberta-base-sentiment-latest\"})\n",
    "# config = OmegaConf.create({\"model\": \"nlptown/bert-base-multilingual-uncased-sentiment\"})\n",
    "# config = OmegaConf.create({\"model\": \"siebert/sentiment-roberta-large-english\"})\n",
    "# config = OmegaConf.create({\"model\": \"tabularisai/multilingual-sentiment-analysis\"})\n",
    "pipeline = PretrainedClassifier(config)\n",
    "\n",
    "train_predictions, val_predictions = pipeline.train(train_sentences, train_labels, val_sentences, val_labels)\n",
    "score_train = evaluate_score(train_labels, train_predictions)\n",
    "score_val = evaluate_score(val_labels, val_predictions)\n",
    "\n",
    "print(f\"Evaluation Score (training set): {score_train:.05f}\")\n",
    "print(f\"Evaluation Score (validation set): {score_val:.05f}\")"
   ]
  },
  {
   "cell_type": "markdown",
   "metadata": {
    "id": "U_6EjfvtdmIT"
   },
   "source": [
    "## Make predictions on test data"
   ]
  },
  {
   "cell_type": "code",
   "execution_count": null,
   "metadata": {},
   "outputs": [],
   "source": [
    "test_ids = test_dataset.index\n",
    "test_predictions = pipeline.predict(test_dataset[\"sentence\"])\n",
    "\n",
    "test_predictions"
   ]
  },
  {
   "cell_type": "code",
   "execution_count": null,
   "metadata": {},
   "outputs": [],
   "source": [
    "save_predictions(PATH_OUTPUT / \"submissions\" / \"submission.csv\", test_ids, test_predictions)"
   ]
  }
 ],
 "metadata": {
  "colab": {
   "provenance": []
  },
  "kernelspec": {
   "display_name": "cil",
   "language": "python",
   "name": "python3"
  },
  "language_info": {
   "codemirror_mode": {
    "name": "ipython",
    "version": 3
   },
   "file_extension": ".py",
   "mimetype": "text/x-python",
   "name": "python",
   "nbconvert_exporter": "python",
   "pygments_lexer": "ipython3",
   "version": "3.12.4"
  }
 },
 "nbformat": 4,
 "nbformat_minor": 0
}
