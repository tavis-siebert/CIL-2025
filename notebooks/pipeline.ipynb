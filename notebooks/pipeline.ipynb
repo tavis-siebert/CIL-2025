{
 "cells": [
  {
   "cell_type": "markdown",
   "metadata": {
    "id": "nqJLaVF2ag6Z"
   },
   "source": [
    "# Baseline"
   ]
  },
  {
   "cell_type": "code",
   "execution_count": 11,
   "metadata": {},
   "outputs": [
    {
     "name": "stdout",
     "output_type": "stream",
     "text": [
      "The autoreload extension is already loaded. To reload it, use:\n",
      "  %reload_ext autoreload\n"
     ]
    }
   ],
   "source": [
    "%load_ext autoreload\n",
    "%autoreload 2\n",
    "\n",
    "import sys\n",
    "sys.path.append(\"../src\")"
   ]
  },
  {
   "cell_type": "code",
   "execution_count": 12,
   "metadata": {
    "id": "r6qltM7-ahC-"
   },
   "outputs": [
    {
     "name": "stdout",
     "output_type": "stream",
     "text": [
      "[2025-05-21 13:54:09] INFO     cache:21    Cache directory: ../output/cache\n"
     ]
    }
   ],
   "source": [
    "from pathlib import Path\n",
    "\n",
    "from omegaconf import OmegaConf\n",
    "from sklearn.model_selection import train_test_split\n",
    "\n",
    "from cache import CACHE\n",
    "from utils import (\n",
    "    evaluate_score,\n",
    "    load_data,\n",
    "    save_predictions,\n",
    "    setup_logging,\n",
    ")\n",
    "\n",
    "setup_logging()\n",
    "\n",
    "PATH_DATA = Path(\"../data\")\n",
    "PATH_OUTPUT = Path(\"../output\")\n",
    "\n",
    "CACHE.init(cache_dir=PATH_OUTPUT / \"cache\")"
   ]
  },
  {
   "cell_type": "markdown",
   "metadata": {
    "id": "ZI8WpWMfcEPP"
   },
   "source": [
    "## Load data"
   ]
  },
  {
   "cell_type": "code",
   "execution_count": 13,
   "metadata": {
    "id": "n-m747YTcAcq"
   },
   "outputs": [],
   "source": [
    "train_dataset = load_data(PATH_DATA / \"training.csv\")\n",
    "test_dataset = load_data(PATH_DATA / \"test.csv\")\n",
    "\n",
    "# Remove sentences longer than a threshold (e.g., 100 words)\n",
    "max_sentence_length = 512\n",
    "mask = train_dataset[\"sentence\"].apply(lambda x: len(x.split()) <= max_sentence_length)\n",
    "train_dataset = train_dataset[mask]"
   ]
  },
  {
   "cell_type": "code",
   "execution_count": 14,
   "metadata": {},
   "outputs": [
    {
     "name": "stderr",
     "output_type": "stream",
     "text": [
      "[nltk_data] Downloading package punkt to /Users/samuel/nltk_data...\n",
      "[nltk_data]   Package punkt is already up-to-date!\n",
      "[nltk_data] Downloading package wordnet to /Users/samuel/nltk_data...\n",
      "[nltk_data]   Package wordnet is already up-to-date!\n"
     ]
    },
    {
     "data": {
      "text/plain": [
       "True"
      ]
     },
     "execution_count": 14,
     "metadata": {},
     "output_type": "execute_result"
    }
   ],
   "source": [
    "import nltk\n",
    "\n",
    "with open(PATH_DATA / \"stopwords.txt\", \"r\") as f:\n",
    "    stopwords = set(line.strip() for line in f if line.strip())\n",
    "\n",
    "nltk.download(\"punkt\")\n",
    "nltk.download(\"wordnet\")"
   ]
  },
  {
   "cell_type": "code",
   "execution_count": 15,
   "metadata": {
    "id": "S2PkENpXxOtc"
   },
   "outputs": [],
   "source": [
    "train_sentences, val_sentences, train_labels, val_labels = train_test_split(\n",
    "    train_dataset[\"sentence\"],\n",
    "    train_dataset[\"label\"],\n",
    "    test_size=0.1,\n",
    "    stratify=train_dataset[\"label\"],\n",
    "    random_state=0,\n",
    ")"
   ]
  },
  {
   "cell_type": "markdown",
   "metadata": {
    "id": "Cx2ynP3ZzI2W"
   },
   "source": [
    "## Train pipeline"
   ]
  },
  {
   "cell_type": "code",
   "execution_count": null,
   "metadata": {},
   "outputs": [],
   "source": [
    "config_bow_logreg = \"\"\"\n",
    "label_mapping: regression\n",
    "\n",
    "vectorizer:\n",
    "    type: CountVectorizer\n",
    "    ngram_range: [1, 3]\n",
    "    max_features: 10000\n",
    "\n",
    "model:\n",
    "    type: LogisticRegression\n",
    "    C: 1.0\n",
    "    max_iter: 100\n",
    "\n",
    "preprocessing:\n",
    "    - clean_whitespaces\n",
    "    - internet\n",
    "    - punctuation\n",
    "    - contractions\n",
    "    - remove_repeated_chars\n",
    "    - remove_special_chars\n",
    "\"\"\"\n",
    "\n",
    "config_tfidf_logreg = \"\"\"\n",
    "label_mapping: regression\n",
    "\n",
    "vectorizer:\n",
    "    type: TfidfVectorizer\n",
    "    ngram_range: [1, 3]\n",
    "    max_features: 10000\n",
    "\n",
    "model:\n",
    "    type: LogisticRegression\n",
    "    C: 1.0\n",
    "    max_iter: 100\n",
    "\n",
    "preprocessing:\n",
    "    - clean_whitespaces\n",
    "    - internet\n",
    "    - punctuation\n",
    "    - contractions\n",
    "    - remove_repeated_chars\n",
    "    - remove_special_chars\n",
    "    - lemmatize\n",
    "\"\"\"\n",
    "\n",
    "active_config = OmegaConf.create(config_bow_logreg)"
   ]
  },
  {
   "cell_type": "code",
   "execution_count": null,
   "metadata": {},
   "outputs": [
    {
     "name": "stdout",
     "output_type": "stream",
     "text": [
      "[2025-05-21 13:54:16] WARNING  py.warnings:110   /opt/homebrew/Caskroom/miniconda/base/envs/cil-project/lib/python3.13/site-packages/sklearn/linear_model/_logistic.py:465: ConvergenceWarning: lbfgs failed to converge (status=1):\n",
      "STOP: TOTAL NO. OF ITERATIONS REACHED LIMIT.\n",
      "\n",
      "Increase the number of iterations (max_iter) or scale the data as shown in:\n",
      "    https://scikit-learn.org/stable/modules/preprocessing.html\n",
      "Please also refer to the documentation for alternative solver options:\n",
      "    https://scikit-learn.org/stable/modules/linear_model.html#logistic-regression\n",
      "  n_iter_i = _check_optimize_result(\n",
      "\n",
      "Evaluation Score (training set): 0.83913\n",
      "Evaluation Score (validation set): 0.80803\n"
     ]
    }
   ],
   "source": [
    "from pipelines.classical_ml import ClassicalMLPipeline\n",
    "\n",
    "pipeline = ClassicalMLPipeline(active_config)\n",
    "\n",
    "train_predictions, val_predictions = pipeline.train(train_sentences, train_labels, val_sentences, val_labels)\n",
    "score_train = evaluate_score(train_labels, train_predictions)\n",
    "score_val = evaluate_score(val_labels, val_predictions)\n",
    "\n",
    "print(f\"Evaluation Score (training set): {score_train:.05f}\")\n",
    "print(f\"Evaluation Score (validation set): {score_val:.05f}\")"
   ]
  },
  {
   "cell_type": "markdown",
   "metadata": {
    "id": "U_6EjfvtdmIT"
   },
   "source": [
    "<!-- ## Make predictions on test data -->"
   ]
  },
  {
   "cell_type": "code",
   "execution_count": 18,
   "metadata": {},
   "outputs": [
    {
     "data": {
      "text/plain": [
       "id\n",
       "0         neutral\n",
       "1         neutral\n",
       "2         neutral\n",
       "3        negative\n",
       "4         neutral\n",
       "           ...   \n",
       "11946    positive\n",
       "11947     neutral\n",
       "11948    positive\n",
       "11949    negative\n",
       "11950    positive\n",
       "Length: 11951, dtype: object"
      ]
     },
     "execution_count": 18,
     "metadata": {},
     "output_type": "execute_result"
    }
   ],
   "source": [
    "test_ids = test_dataset.index\n",
    "test_predictions = pipeline.predict(test_dataset[\"sentence\"])\n",
    "\n",
    "test_predictions"
   ]
  },
  {
   "cell_type": "code",
   "execution_count": 19,
   "metadata": {},
   "outputs": [
    {
     "name": "stdout",
     "output_type": "stream",
     "text": [
      "[2025-05-21 13:54:21] INFO     utils:103   Submission saved to '../output/submissions/submission.csv'.\n"
     ]
    }
   ],
   "source": [
    "save_predictions(PATH_OUTPUT / \"submissions\" / \"submission.csv\", test_ids, test_predictions)"
   ]
  }
 ],
 "metadata": {
  "colab": {
   "provenance": []
  },
  "kernelspec": {
   "display_name": "cil-project",
   "language": "python",
   "name": "python3"
  },
  "language_info": {
   "codemirror_mode": {
    "name": "ipython",
    "version": 3
   },
   "file_extension": ".py",
   "mimetype": "text/x-python",
   "name": "python",
   "nbconvert_exporter": "python",
   "pygments_lexer": "ipython3",
   "version": "3.13.2"
  }
 },
 "nbformat": 4,
 "nbformat_minor": 0
}
