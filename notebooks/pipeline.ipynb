{
 "cells": [
  {
   "cell_type": "markdown",
   "metadata": {
    "id": "nqJLaVF2ag6Z"
   },
   "source": [
    "# Baseline"
   ]
  },
  {
   "cell_type": "code",
   "execution_count": 1,
   "metadata": {},
   "outputs": [],
   "source": [
    "%load_ext autoreload\n",
    "%autoreload 2\n",
    "\n",
    "import sys\n",
    "sys.path.append(\"../src\")"
   ]
  },
  {
   "cell_type": "code",
   "execution_count": 2,
   "metadata": {
    "id": "r6qltM7-ahC-"
   },
   "outputs": [
    {
     "name": "stdout",
     "output_type": "stream",
     "text": [
      "[2025-05-21 18:28:31] INFO     cache:21    Cache directory: ../output/cache\n"
     ]
    }
   ],
   "source": [
    "from pathlib import Path\n",
    "\n",
    "from omegaconf import OmegaConf\n",
    "from sklearn.model_selection import train_test_split\n",
    "\n",
    "from cache import CACHE\n",
    "from utils import (\n",
    "    evaluate_score,\n",
    "    load_data,\n",
    "    save_predictions,\n",
    "    setup_logging,\n",
    ")\n",
    "\n",
    "setup_logging()\n",
    "\n",
    "PATH_DATA = Path(\"../data\")\n",
    "PATH_OUTPUT = Path(\"../output\")\n",
    "\n",
    "CACHE.init(cache_dir=PATH_OUTPUT / \"cache\")"
   ]
  },
  {
   "cell_type": "markdown",
   "metadata": {
    "id": "ZI8WpWMfcEPP"
   },
   "source": [
    "## Load data"
   ]
  },
  {
   "cell_type": "code",
   "execution_count": 3,
   "metadata": {
    "id": "n-m747YTcAcq"
   },
   "outputs": [
    {
     "name": "stdout",
     "output_type": "stream",
     "text": [
      "Removing 13 sentences longer than 512 characters.\n"
     ]
    }
   ],
   "source": [
    "train_dataset = load_data(PATH_DATA / \"training.csv\")\n",
    "test_dataset = load_data(PATH_DATA / \"test.csv\")\n",
    "\n",
    "# remove sentences longer than a threshold\n",
    "max_sentence_length = 512\n",
    "mask = train_dataset[\"sentence\"].apply(lambda x: len(x) <= max_sentence_length)\n",
    "print(f\"Removing {len(train_dataset) - mask.sum()} sentences longer than {max_sentence_length} characters.\")\n",
    "train_dataset = train_dataset[mask]"
   ]
  },
  {
   "cell_type": "code",
   "execution_count": null,
   "metadata": {},
   "outputs": [
    {
     "name": "stderr",
     "output_type": "stream",
     "text": [
      "[nltk_data] Downloading package punkt to /Users/samuel/nltk_data...\n",
      "[nltk_data]   Package punkt is already up-to-date!\n",
      "[nltk_data] Downloading package punkt_tab to\n",
      "[nltk_data]     /Users/samuel/nltk_data...\n",
      "[nltk_data]   Package punkt_tab is already up-to-date!\n",
      "[nltk_data] Downloading package wordnet to /Users/samuel/nltk_data...\n",
      "[nltk_data]   Package wordnet is already up-to-date!\n"
     ]
    },
    {
     "data": {
      "text/plain": [
       "True"
      ]
     },
     "execution_count": 4,
     "metadata": {},
     "output_type": "execute_result"
    }
   ],
   "source": [
    "import nltk\n",
    "\n",
    "# download nltk data\n",
    "nltk.download(\"punkt\")\n",
    "nltk.download(\"punkt_tab\")\n",
    "nltk.download(\"wordnet\")"
   ]
  },
  {
   "cell_type": "code",
   "execution_count": 5,
   "metadata": {
    "id": "S2PkENpXxOtc"
   },
   "outputs": [],
   "source": [
    "train_sentences, val_sentences, train_labels, val_labels = train_test_split(\n",
    "    train_dataset[\"sentence\"],\n",
    "    train_dataset[\"label\"],\n",
    "    test_size=0.1,\n",
    "    stratify=train_dataset[\"label\"],\n",
    "    random_state=0,\n",
    ")"
   ]
  },
  {
   "cell_type": "markdown",
   "metadata": {
    "id": "Cx2ynP3ZzI2W"
   },
   "source": [
    "## Train pipeline"
   ]
  },
  {
   "cell_type": "code",
   "execution_count": 21,
   "metadata": {},
   "outputs": [],
   "source": [
    "### baseline\n",
    "\n",
    "# baseline config using bag of words and logistic regression\n",
    "config_bow_logreg = \"\"\"\n",
    "label_mapping: regression\n",
    "\n",
    "vectorizer:\n",
    "    type: CountVectorizer\n",
    "    ngram_range: [1, 3]\n",
    "    max_features: 10000\n",
    "\n",
    "model:\n",
    "    type: LogisticRegression\n",
    "    C: 1.0\n",
    "    max_iter: 100\n",
    "\"\"\"\n",
    "\n",
    "# baseline config using bag of words and logistic regression with preprocessing\n",
    "config_bow_logreg_pp = \"\"\"\n",
    "label_mapping: regression\n",
    "\n",
    "vectorizer:\n",
    "    type: CountVectorizer\n",
    "    ngram_range: [1, 3]\n",
    "    max_features: 10000\n",
    "\n",
    "model:\n",
    "    type: LogisticRegression\n",
    "    C: 1.0\n",
    "    max_iter: 100\n",
    "\n",
    "preprocessing:\n",
    "    - clean_whitespaces\n",
    "    - internet\n",
    "    - punctuation\n",
    "    - contractions\n",
    "    - remove_repeated_chars\n",
    "    - remove_special_chars\n",
    "    - lowercase\n",
    "\"\"\"\n",
    "\n",
    "\n",
    "### tree-based models\n",
    "\n",
    "# config using bag of words and random forest\n",
    "config_bow_rf= \"\"\"\n",
    "label_mapping: classification\n",
    "\n",
    "vectorizer:\n",
    "    type: CountVectorizer\n",
    "    ngram_range: [1, 3]\n",
    "    max_features: 10000\n",
    "\n",
    "model:\n",
    "    type: RandomForestClassifier\n",
    "    n_estimators: 100\n",
    "    max_depth: 75\n",
    "    n_jobs: -1\n",
    "\n",
    "preprocessing:\n",
    "    - clean_whitespaces\n",
    "    - internet\n",
    "    - punctuation\n",
    "    - contractions\n",
    "    - remove_repeated_chars\n",
    "    - remove_special_chars\n",
    "    - lowercase\n",
    "\"\"\"\n",
    "\n",
    "# config using bag of words and xgboost with preprocessing\n",
    "config_bow_xgboost = \"\"\"\n",
    "label_mapping: classification\n",
    "\n",
    "vectorizer:\n",
    "    type: CountVectorizer\n",
    "    ngram_range: [1, 3]\n",
    "    max_features: 100000\n",
    "\n",
    "model:\n",
    "    type: XGBClassifier\n",
    "    n_estimators: 200\n",
    "    max_depth: 25\n",
    "\n",
    "preprocessing:\n",
    "    - clean_whitespaces\n",
    "    - internet\n",
    "    - punctuation\n",
    "    - contractions\n",
    "    - remove_repeated_chars\n",
    "    - remove_special_chars\n",
    "    - remove_stopwords\n",
    "    - lowercase\n",
    "    - lemmatize\n",
    "\"\"\"\n",
    "\n",
    "config = OmegaConf.create(config_bow_xgboost)\n",
    "\n",
    "# vectorizer:\n",
    "#     type: GloVe\n",
    "#     path: {PATH_DATA}/glove.twitter.27B/glove.twitter.27B.25d.txt"
   ]
  },
  {
   "cell_type": "code",
   "execution_count": 22,
   "metadata": {},
   "outputs": [
    {
     "ename": "ValueError",
     "evalue": "Invalid preprocessing rules: {'remove_stopwords'}",
     "output_type": "error",
     "traceback": [
      "\u001b[31m---------------------------------------------------------------------------\u001b[39m",
      "\u001b[31mValueError\u001b[39m                                Traceback (most recent call last)",
      "\u001b[36mCell\u001b[39m\u001b[36m \u001b[39m\u001b[32mIn[22]\u001b[39m\u001b[32m, line 5\u001b[39m\n\u001b[32m      1\u001b[39m \u001b[38;5;28;01mfrom\u001b[39;00m\u001b[38;5;250m \u001b[39m\u001b[34;01mpipelines\u001b[39;00m\u001b[34;01m.\u001b[39;00m\u001b[34;01mclassical_ml\u001b[39;00m\u001b[38;5;250m \u001b[39m\u001b[38;5;28;01mimport\u001b[39;00m ClassicalMLPipeline\n\u001b[32m      3\u001b[39m pipeline = ClassicalMLPipeline(config)\n\u001b[32m----> \u001b[39m\u001b[32m5\u001b[39m train_predictions, val_predictions = \u001b[43mpipeline\u001b[49m\u001b[43m.\u001b[49m\u001b[43mtrain\u001b[49m\u001b[43m(\u001b[49m\u001b[43mtrain_sentences\u001b[49m\u001b[43m,\u001b[49m\u001b[43m \u001b[49m\u001b[43mtrain_labels\u001b[49m\u001b[43m,\u001b[49m\u001b[43m \u001b[49m\u001b[43mval_sentences\u001b[49m\u001b[43m,\u001b[49m\u001b[43m \u001b[49m\u001b[43mval_labels\u001b[49m\u001b[43m)\u001b[49m\n\u001b[32m      6\u001b[39m score_train = evaluate_score(train_labels, train_predictions)\n\u001b[32m      7\u001b[39m score_val = evaluate_score(val_labels, val_predictions)\n",
      "\u001b[36mFile \u001b[39m\u001b[32m~/University/cil-project/notebooks/../src/pipelines/classical_ml.py:72\u001b[39m, in \u001b[36mClassicalMLPipeline.train\u001b[39m\u001b[34m(self, train_sentences, train_labels, val_sentences, val_labels)\u001b[39m\n\u001b[32m     70\u001b[39m \u001b[38;5;66;03m# apply preprocessing for train\u001b[39;00m\n\u001b[32m     71\u001b[39m \u001b[38;5;28;01mif\u001b[39;00m \u001b[38;5;28mself\u001b[39m.preprocessing_rules:\n\u001b[32m---> \u001b[39m\u001b[32m72\u001b[39m     train_sentences = \u001b[43mapply_preprocessing\u001b[49m\u001b[43m(\u001b[49m\u001b[43mtrain_sentences\u001b[49m\u001b[43m,\u001b[49m\u001b[43m \u001b[49m\u001b[38;5;28;43mself\u001b[39;49m\u001b[43m.\u001b[49m\u001b[43mpreprocessing_rules\u001b[49m\u001b[43m)\u001b[49m\n\u001b[32m     74\u001b[39m \u001b[38;5;66;03m# get embeddings for train\u001b[39;00m\n\u001b[32m     75\u001b[39m \u001b[38;5;28;01mif\u001b[39;00m \u001b[38;5;28mself\u001b[39m.vectorizer_type == \u001b[33m\"\u001b[39m\u001b[33mGloVe\u001b[39m\u001b[33m\"\u001b[39m:\n",
      "\u001b[36mFile \u001b[39m\u001b[32m<string>:3\u001b[39m, in \u001b[36mapply_preprocessing\u001b[39m\u001b[34m(sentences, active_rules)\u001b[39m\n",
      "\u001b[31mValueError\u001b[39m: Invalid preprocessing rules: {'remove_stopwords'}"
     ]
    }
   ],
   "source": [
    "from pipelines.classical_ml import ClassicalMLPipeline\n",
    "\n",
    "pipeline = ClassicalMLPipeline(config)\n",
    "\n",
    "train_predictions, val_predictions = pipeline.train(train_sentences, train_labels, val_sentences, val_labels)\n",
    "score_train = evaluate_score(train_labels, train_predictions)\n",
    "score_val = evaluate_score(val_labels, val_predictions)\n",
    "\n",
    "print(f\"Evaluation Score (training set): {score_train:.05f}\")\n",
    "print(f\"Evaluation Score (validation set): {score_val:.05f}\")"
   ]
  },
  {
   "cell_type": "markdown",
   "metadata": {
    "id": "U_6EjfvtdmIT"
   },
   "source": [
    "<!-- ## Make predictions on test data -->"
   ]
  },
  {
   "cell_type": "code",
   "execution_count": 8,
   "metadata": {},
   "outputs": [
    {
     "data": {
      "text/plain": [
       "id\n",
       "0         neutral\n",
       "1         neutral\n",
       "2         neutral\n",
       "3        negative\n",
       "4        positive\n",
       "           ...   \n",
       "11946     neutral\n",
       "11947     neutral\n",
       "11948    positive\n",
       "11949    positive\n",
       "11950    positive\n",
       "Length: 11951, dtype: object"
      ]
     },
     "execution_count": 8,
     "metadata": {},
     "output_type": "execute_result"
    }
   ],
   "source": [
    "test_ids = test_dataset.index\n",
    "test_predictions = pipeline.predict(test_dataset[\"sentence\"])\n",
    "\n",
    "test_predictions"
   ]
  },
  {
   "cell_type": "code",
   "execution_count": 9,
   "metadata": {},
   "outputs": [
    {
     "name": "stdout",
     "output_type": "stream",
     "text": [
      "[2025-05-21 18:28:45] INFO     utils:104   Submission saved to '../output/submissions/submission.csv'.\n"
     ]
    }
   ],
   "source": [
    "save_predictions(PATH_OUTPUT / \"submissions\" / \"submission.csv\", test_ids, test_predictions)"
   ]
  }
 ],
 "metadata": {
  "colab": {
   "provenance": []
  },
  "kernelspec": {
   "display_name": "cil-project",
   "language": "python",
   "name": "python3"
  },
  "language_info": {
   "codemirror_mode": {
    "name": "ipython",
    "version": 3
   },
   "file_extension": ".py",
   "mimetype": "text/x-python",
   "name": "python",
   "nbconvert_exporter": "python",
   "pygments_lexer": "ipython3",
   "version": "3.13.2"
  }
 },
 "nbformat": 4,
 "nbformat_minor": 0
}
